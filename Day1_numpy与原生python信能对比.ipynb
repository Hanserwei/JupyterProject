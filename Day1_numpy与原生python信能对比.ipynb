{
 "cells": [
  {
   "metadata": {},
   "cell_type": "markdown",
   "source": [
    "# 需求\n",
    "- 实现两个数组的加法\n",
    "- 数组A是0到N-1数字的平方\n",
    "- 数组B是0到N-1数字的立方"
   ],
   "id": "e82a1eefe4d9ed73"
  },
  {
   "metadata": {
    "ExecuteTime": {
     "end_time": "2024-10-24T13:05:32.458002Z",
     "start_time": "2024-10-24T13:05:32.360176Z"
    }
   },
   "cell_type": "code",
   "source": "import numpy as np",
   "id": "9df9a933d8b8a4fb",
   "outputs": [],
   "execution_count": 1
  },
  {
   "metadata": {
    "ExecuteTime": {
     "end_time": "2024-10-24T13:05:33.122098Z",
     "start_time": "2024-10-24T13:05:33.115775Z"
    }
   },
   "cell_type": "code",
   "source": "np.__version__",
   "id": "fb74ca0e7612392b",
   "outputs": [
    {
     "data": {
      "text/plain": [
       "'2.1.2'"
      ]
     },
     "execution_count": 2,
     "metadata": {},
     "output_type": "execute_result"
    }
   ],
   "execution_count": 2
  },
  {
   "metadata": {},
   "cell_type": "markdown",
   "source": "# 原生的Python代码实现",
   "id": "89abf8e9c601715e"
  },
  {
   "metadata": {},
   "cell_type": "code",
   "source": [
    "def python_sum(n):\n",
    "    # 使用列表生成式\n",
    "    a = [i**2 for i in range(n)]\n",
    "    b = [i**3 for i in range(n)]\n",
    "    ab_sum = []\n",
    "    for i in range(n):\n",
    "        ab_sum.append(a[i]+b[i])\n",
    "    return ab_sum"
   ],
   "id": "5a49dd18e510dd5e",
   "outputs": [],
   "execution_count": null
  },
  {
   "metadata": {},
   "cell_type": "code",
   "source": [
    "# 调用函数\n",
    "python_sum(10)"
   ],
   "id": "6fcfd08869a89eef",
   "outputs": [],
   "execution_count": null
  },
  {
   "metadata": {},
   "cell_type": "markdown",
   "source": "# Numpy实现",
   "id": "43c58f2f98054b4a"
  },
  {
   "metadata": {},
   "cell_type": "code",
   "source": [
    "def numpy_sum(n):\n",
    "    a = np.arange(n)**2\n",
    "    b = np.arange(n)**3\n",
    "    return a+b"
   ],
   "id": "214d0d634d8e027",
   "outputs": [],
   "execution_count": null
  },
  {
   "metadata": {},
   "cell_type": "code",
   "source": [
    "# 调用函数\n",
    "numpy_sum(10)"
   ],
   "id": "63797ee969d67e96",
   "outputs": [],
   "execution_count": null
  },
  {
   "metadata": {},
   "cell_type": "markdown",
   "source": "# 对比1000次",
   "id": "a6f22fc31e6c6df4"
  },
  {
   "metadata": {},
   "cell_type": "code",
   "source": [
    "%timeit python_sum(1000)\n",
    "%timeit numpy_sum(1000)"
   ],
   "id": "93b24b34ea0ddfde",
   "outputs": [],
   "execution_count": null
  },
  {
   "metadata": {},
   "cell_type": "markdown",
   "source": "# 对比10w次",
   "id": "9a6e386c4b757749"
  },
  {
   "metadata": {},
   "cell_type": "code",
   "source": [
    "%timeit python_sum(100000)\n",
    "%timeit numpy_sum(100000)"
   ],
   "id": "74e561ffda4f0bf4",
   "outputs": [],
   "execution_count": null
  },
  {
   "metadata": {},
   "cell_type": "markdown",
   "source": "# 对比100w次",
   "id": "6ac356eb20bbc7a4"
  },
  {
   "metadata": {},
   "cell_type": "code",
   "source": [
    "%timeit python_sum(1000000)\n",
    "%timeit numpy_sum(10000000)"
   ],
   "id": "571e1402c1df63a4",
   "outputs": [],
   "execution_count": null
  }
 ],
 "metadata": {
  "kernelspec": {
   "display_name": "Python 3 (ipykernel)",
   "language": "python",
   "name": "python3"
  },
  "language_info": {
   "codemirror_mode": {
    "name": "ipython",
    "version": 3
   },
   "file_extension": ".py",
   "mimetype": "text/x-python",
   "name": "python",
   "nbconvert_exporter": "python",
   "pygments_lexer": "ipython3",
   "version": "3.11.10"
  }
 },
 "nbformat": 4,
 "nbformat_minor": 5
}

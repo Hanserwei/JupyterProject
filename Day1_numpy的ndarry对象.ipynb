{
 "cells": [
  {
   "metadata": {},
   "cell_type": "markdown",
   "source": [
    "# Numpy ndarry对象\n",
    "NumPy定义了一个n维数组对象，简称ndarry对象，他是一个**一系列相同类型**的元素组成的数组集合。数组中的每个元素都占用相同大小的内存块。\n",
    "ndarry对象采用了数组的**索引机制**，将数组的每个元素**映射**到内存块上，并按照一定的布局对内存块进行排序（行或者列）"
   ],
   "id": "51dd8ce4a86d4443"
  },
  {
   "metadata": {},
   "cell_type": "markdown",
   "source": [
    "## Numpy创建数组\n",
    "| 序号 | 参数   | 描述说明                                                     |\n",
    "| ---- | ------ | ------------------------------------------------------------ |\n",
    "| 1    | object | 表示一个数组序列                                             |\n",
    "| 2    | dtype  | 可选参数，通过它更改数组的数据类型                           |\n",
    "| 3    | cpoy   | 可选参数，当数据源是ndarray时表示数组能否被复制，默认为True  |\n",
    "| 4    | order  | 可选参数，以哪一种内存布局创建数组，有三个可选值，分别为C(行序列)，F(列序列)以及A(默认) |\n",
    "| 5    | ndmin  | 可选参数，用于指定数组的维度                                 |\n",
    "| 6    | subok  | 可选参数，类型是bool值，默认为False。为True，使用object的内部数据类型；False：使用object数组的数据类型 |"
   ],
   "id": "32b12501457e7744"
  },
  {
   "cell_type": "code",
   "id": "initial_id",
   "metadata": {
    "collapsed": true
   },
   "source": "import numpy as np",
   "outputs": [],
   "execution_count": null
  },
  {
   "metadata": {},
   "cell_type": "code",
   "source": "np.array([1,2,3,4,5])",
   "id": "2a97edd3dd4a2db6",
   "outputs": [],
   "execution_count": null
  },
  {
   "metadata": {},
   "cell_type": "code",
   "source": "type(np.array([1,2,3,4,5]))",
   "id": "5741c2fe7b9f23ba",
   "outputs": [],
   "execution_count": null
  },
  {
   "metadata": {},
   "cell_type": "code",
   "source": "np.array((1,2,3,4,5))",
   "id": "1cc740fb41b8057c",
   "outputs": [],
   "execution_count": null
  },
  {
   "metadata": {},
   "cell_type": "code",
   "source": [
    "a = np.array([1,2,3,4,5])\n",
    "b = np.array(a)\n",
    "b"
   ],
   "id": "c1a05aa809342e42",
   "outputs": [],
   "execution_count": null
  },
  {
   "metadata": {},
   "cell_type": "code",
   "source": [
    "# 迭代对象\n",
    "np.array(range(10))"
   ],
   "id": "f778b40e5ef208f8",
   "outputs": [],
   "execution_count": null
  },
  {
   "metadata": {},
   "cell_type": "code",
   "source": [
    "# 生成器\n",
    "np.array([i**2 for i in range(10)])"
   ],
   "id": "3009fdaf1353e8a9",
   "outputs": [],
   "execution_count": null
  },
  {
   "metadata": {},
   "cell_type": "markdown",
   "source": [
    "### 练习1\n",
    "创建一个10以内的偶数数组"
   ],
   "id": "af5594a793616916"
  },
  {
   "metadata": {},
   "cell_type": "code",
   "source": [
    "a = []\n",
    "for i in range(10):\n",
    "    if i%2 == 0:\n",
    "        a.append(i)\n",
    "np.array(a)"
   ],
   "id": "17a50a99843a0ca3",
   "outputs": [],
   "execution_count": null
  },
  {
   "metadata": {},
   "cell_type": "code",
   "source": [
    "# 生成式\n",
    "np.array([i for i in range(10) if i%2 == 0])"
   ],
   "id": "37b99d869687fc19",
   "outputs": [],
   "execution_count": null
  },
  {
   "metadata": {},
   "cell_type": "code",
   "source": [
    "# 列表中元素的类型不同\n",
    "np.array([1,2,3,4.5,'5'])"
   ],
   "id": "df70cde71a7ca0bc",
   "outputs": [],
   "execution_count": null
  },
  {
   "metadata": {},
   "cell_type": "code",
   "source": [
    "ar1 = np.array(range(10)) # 整型\n",
    "ar1"
   ],
   "id": "a17c9afed023b509",
   "outputs": [],
   "execution_count": null
  },
  {
   "metadata": {},
   "cell_type": "code",
   "source": [
    "ar2 = np.array([1,2,3.14,4,5]) # 浮点型\n",
    "ar2"
   ],
   "id": "576bda24aadaf1a4",
   "outputs": [],
   "execution_count": null
  },
  {
   "metadata": {},
   "cell_type": "code",
   "source": [
    "ar3 = np.array([[1,2,3],('a','b','c')]) # 二维数组\n",
    "ar3"
   ],
   "id": "b7087bff5a9db180",
   "outputs": [],
   "execution_count": null
  },
  {
   "metadata": {},
   "cell_type": "code",
   "source": [
    "# 嵌套序列的数量不一样会怎么样,会报错\n",
    "ar4 = np.array([[1,2,3],('a','b','c','d')])\n",
    "ar4"
   ],
   "id": "1086d2db23fc1939",
   "outputs": [],
   "execution_count": null
  },
  {
   "metadata": {},
   "cell_type": "code",
   "source": [
    "# 嵌套序列的数量不一样会怎么样，会报错\n",
    "ar4 = np.array([[1,2,3],[1,2,3,4]])\n",
    "ar4"
   ],
   "id": "9ff32ec9c72dfd64",
   "outputs": [],
   "execution_count": null
  },
  {
   "metadata": {},
   "cell_type": "markdown",
   "source": "### 1.设置dtype参数，默认为自动识别",
   "id": "1c7e7d3e3144983c"
  },
  {
   "metadata": {},
   "cell_type": "code",
   "source": [
    "a = np.array([1,2,3,4,5])\n",
    "print(a)\n",
    "# 设置数组元素类型\n",
    "has_dtype_a = np.array([1,2,3,4,5],dtype='float')\n",
    "has_dtype_a"
   ],
   "id": "d046bb7aafd4877",
   "outputs": [],
   "execution_count": null
  },
  {
   "metadata": {},
   "cell_type": "markdown",
   "source": "### 若将浮点型设置为整形，结果会怎么样",
   "id": "61a3040287c26c62"
  },
  {
   "metadata": {},
   "cell_type": "code",
   "source": "np.array([1.1,2.2,3.4,4.6,5.8],dtype='int')",
   "id": "bffbabda91fb3d6",
   "outputs": [],
   "execution_count": null
  },
  {
   "metadata": {},
   "cell_type": "markdown",
   "source": "### 2.设置copy参数，默认为True",
   "id": "687edb2e596c5487"
  },
  {
   "metadata": {},
   "cell_type": "code",
   "source": [
    "a = np.array([1,2,3,4,5])\n",
    "# 定义b，复制a\n",
    "b = np.array(a)\n",
    "# 输出a和b的id\n",
    "print('a:',a,'b',b)\n",
    "print('a:',id(a),'b:',id(b))\n",
    "print('上述代码可以看出a和b的内存地址')"
   ],
   "id": "9591e0d446a92b0e",
   "outputs": [],
   "execution_count": null
  },
  {
   "metadata": {},
   "cell_type": "code",
   "source": [
    "# 当我们修改b元素的时候，a不会发生改变\n",
    "b[0] = 10\n",
    "print('a:',a,'b:',b)\n"
   ],
   "id": "ec834c3de90da8f9",
   "outputs": [],
   "execution_count": null
  },
  {
   "metadata": {},
   "cell_type": "code",
   "source": [
    "a = np.array([1,2,3,4,5])\n",
    "# 直接等于，是试图操作，相当于列表的引用赋值\n",
    "b =a\n",
    "# 输出a和b的id\n",
    "print('a:',a,'b',b)\n",
    "print('a:',id(a),'b:',id(b))\n",
    "print('上述代码可以看出a和b的内存地址')"
   ],
   "id": "50bbb505e5858c34",
   "outputs": [],
   "execution_count": null
  },
  {
   "metadata": {},
   "cell_type": "code",
   "source": [
    "# 此时若对b进行操作，那么由于a和b是同一个内存地址，那么a也会发生变化\n",
    "b[0] = 10\n",
    "print('a:',a,'b:',b)"
   ],
   "id": "2dbc1dedc80bedcd",
   "outputs": [],
   "execution_count": null
  },
  {
   "metadata": {},
   "cell_type": "code",
   "source": [
    "a = np.array([1,2,3,4,5])\n",
    "# 定义b，当设置copy参数为False的时候，不会创建副本\n",
    "# 两个变量指向一个内存地址，没有创建新的对象\n",
    "b = np.array(a,copy=False)\n",
    "print('a:',a,'b',b)\n",
    "print('a:',id(a),'b:',id(b))\n",
    "print('上述代码可以看出a和b的内存地址')\n",
    "# 此时若对b进行操作，那么由于a和b是同一个内存地址，那么a也会发生变化\n",
    "b[0] = 10\n",
    "print('a:',a,'b:',b)"
   ],
   "id": "25848002f51329f9",
   "outputs": [],
   "execution_count": null
  },
  {
   "metadata": {},
   "cell_type": "markdown",
   "source": "### 3.ndmin用于指定数组的维度",
   "id": "11d87351bfffb545"
  },
  {
   "metadata": {},
   "cell_type": "code",
   "source": [
    "a = np.array([1,2,3,4,5])\n",
    "print(a)\n",
    "\n",
    "a = np.array([1,2,3,4,5],ndmin=2)\n",
    "print(a)"
   ],
   "id": "d4c345b2d751ae0e",
   "outputs": [],
   "execution_count": null
  },
  {
   "metadata": {},
   "cell_type": "markdown",
   "source": "### 4.subok参数，类型为bool值，默认为False。为True，使用object的内部数据类型。False：使用数组的类型",
   "id": "518745aa9f1dc54e"
  },
  {
   "metadata": {},
   "cell_type": "code",
   "source": [
    "# # 创建一个矩阵\n",
    "# a = np.asmatrix([1,2,3,4])  # 貌似新版本的numpy取消类.mat方法，这个地方存疑\n",
    "# # 输出矩阵的类型\n",
    "# print(type(a))\n",
    "# # 既要复制一份副本又要保持原类型\n",
    "# at = np.asmatrix(a)\n",
    "# af = np.asmatrix(a)"
   ],
   "id": "745195ecd19fe18c",
   "outputs": [],
   "execution_count": null
  },
  {
   "metadata": {},
   "cell_type": "markdown",
   "source": [
    "## 练习\n",
    "- 1.创建一个一维数组\n",
    "- 2.创建一个二维数组\n",
    "- 3.创建嵌套序列数目不一样的数组，查看结果\n",
    "- 4.测试数组a，若将数组直接赋值给b，修改b中的一个元素，查看a是否变化\n",
    "- 5.紧接着测试4.若不想让b变化影响a，如何实现"
   ],
   "id": "b42e0fd4244f740d"
  },
  {
   "metadata": {},
   "cell_type": "code",
   "source": [
    "a1 = np.array([1,2,3,4,5])\n",
    "a1"
   ],
   "id": "8f5ccc8922f3e3b7",
   "outputs": [],
   "execution_count": null
  },
  {
   "metadata": {},
   "cell_type": "code",
   "source": [
    "a2 = np.array([[1,2,3,4,5]])\n",
    "a2\n",
    "print(type(a1))"
   ],
   "id": "912853340848358a",
   "outputs": [],
   "execution_count": null
  },
  {
   "metadata": {},
   "cell_type": "code",
   "source": [
    "a3 = np.array([[1,2,3,4,5],[1,2,3,4]],dtype=object)\n",
    "a3\n",
    "print(type(a3))"
   ],
   "id": "68856a2304bc705e",
   "outputs": [],
   "execution_count": null
  },
  {
   "metadata": {
    "ExecuteTime": {
     "end_time": "2024-10-24T13:17:55.491816Z",
     "start_time": "2024-10-24T13:17:55.488648Z"
    }
   },
   "cell_type": "code",
   "source": [
    "a = np.array([1,2,3,4,5])\n",
    "b = a\n",
    "b[2] = 10\n",
    "print(a)\n",
    "print(b)"
   ],
   "id": "b08d379ad48f4eb1",
   "outputs": [
    {
     "name": "stdout",
     "output_type": "stream",
     "text": [
      "[ 1  2 10  4  5]\n",
      "[ 1  2 10  4  5]\n"
     ]
    }
   ],
   "execution_count": 47
  },
  {
   "metadata": {
    "ExecuteTime": {
     "end_time": "2024-10-24T13:18:13.009452Z",
     "start_time": "2024-10-24T13:18:13.005946Z"
    }
   },
   "cell_type": "code",
   "source": [
    "a = np.array([1,2,3,4,5])\n",
    "b = a.copy()\n",
    "b[2] = 10\n",
    "print(a)\n",
    "print(b)"
   ],
   "id": "c1211290f151f86d",
   "outputs": [
    {
     "name": "stdout",
     "output_type": "stream",
     "text": [
      "[1 2 3 4 5]\n",
      "[ 1  2 10  4  5]\n"
     ]
    }
   ],
   "execution_count": 48
  }
 ],
 "metadata": {
  "kernelspec": {
   "display_name": "Python 3",
   "language": "python",
   "name": "python3"
  },
  "language_info": {
   "codemirror_mode": {
    "name": "ipython",
    "version": 2
   },
   "file_extension": ".py",
   "mimetype": "text/x-python",
   "name": "python",
   "nbconvert_exporter": "python",
   "pygments_lexer": "ipython2",
   "version": "2.7.6"
  }
 },
 "nbformat": 4,
 "nbformat_minor": 5
}

{
 "cells": [
  {
   "metadata": {},
   "cell_type": "markdown",
   "source": [
    "# arrange()生成区间数组\n",
    "根据start和指定的范围以及step设定的步长，生成一个ndarray。\n",
    "\n",
    "```python\n",
    "numpy.arange(start, stop, step, dtype)\n",
    "```\n",
    "\n",
    "- start：起始值，默认值为0。\n",
    "- stop：终止值，生成的数组中不包含此值。\n",
    "- step：步长，默认为1。\n",
    "- dtype：数据类型，默认为numpy.float64。\n",
    "\n"
   ],
   "id": "f68b58d5d507d2b8"
  },
  {
   "cell_type": "code",
   "id": "initial_id",
   "metadata": {
    "collapsed": true
   },
   "source": [
    "import numpy as np\n",
    "\n",
    "# 生成一个从0到9的数组\n",
    "arr = np.arange(10)\n",
    "print(arr)"
   ],
   "outputs": [],
   "execution_count": null
  },
  {
   "metadata": {},
   "cell_type": "code",
   "source": "np.arange(3.1)",
   "id": "4a0d3e99c231d16f",
   "outputs": [],
   "execution_count": null
  },
  {
   "metadata": {},
   "cell_type": "code",
   "source": "# range(3.1)会报错，因为range()函数的参数必须是整数",
   "id": "6f344c589d7dea43",
   "outputs": [],
   "execution_count": null
  },
  {
   "metadata": {},
   "cell_type": "code",
   "source": [
    "# 返回浮点型，也可以指定数据类型\n",
    "x = np.arange(5, dtype=float)\n",
    "print(x)"
   ],
   "id": "60f418d91222c4b3",
   "outputs": [],
   "execution_count": null
  },
  {
   "metadata": {},
   "cell_type": "markdown",
   "source": "## 设置了起始值、终止值、步长",
   "id": "6f4697fe74900b38"
  },
  {
   "metadata": {},
   "cell_type": "code",
   "source": [
    "# 起始为10，终止为30，步长为5\n",
    "arr = np.arange(10, 30, 5)\n",
    "print(arr)"
   ],
   "id": "aa2bab78df9f6806",
   "outputs": [],
   "execution_count": null
  },
  {
   "metadata": {},
   "cell_type": "code",
   "source": [
    "# 起始为0，终值为20，步长为3\n",
    "arr = np.arange(0, 20, 3)\n",
    "print(arr)"
   ],
   "id": "31321fb7e2600dbb",
   "outputs": [],
   "execution_count": null
  },
  {
   "metadata": {},
   "cell_type": "code",
   "source": "np.arange(20,step=3)",
   "id": "eedad2806a79703a",
   "outputs": [],
   "execution_count": null
  },
  {
   "metadata": {},
   "cell_type": "code",
   "source": [
    "# 如果数组太大而无法打印，Numpy会自动省略部分元素\n",
    "np.arange(1000000)"
   ],
   "id": "6ac957cf11ca73fe",
   "outputs": [],
   "execution_count": null
  },
  {
   "metadata": {},
   "cell_type": "markdown",
   "source": [
    "## 题目\n",
    "两百米从起点开始插旗，每隔3米插一根旗子"
   ],
   "id": "d0f4f3fb2a1d1d06"
  },
  {
   "metadata": {},
   "cell_type": "code",
   "source": "np.arange(0,200,3)",
   "id": "1650bd2e156b646",
   "outputs": [],
   "execution_count": null
  },
  {
   "metadata": {},
   "cell_type": "code",
   "source": "len(np.arange(0,200,3))",
   "id": "9a28e10de5f4f00d",
   "outputs": [],
   "execution_count": null
  },
  {
   "metadata": {},
   "cell_type": "markdown",
   "source": "## 如何防止float的不精确影响numpy的",
   "id": "2494b9d240689f86"
  },
  {
   "metadata": {},
   "cell_type": "code",
   "source": [
    "np.arange(0.1, 0.3, 0.1)\n",
    "# 长度为3，但实际上只有2个元素"
   ],
   "id": "58c9aefe5f345388",
   "outputs": [],
   "execution_count": null
  },
  {
   "metadata": {},
   "cell_type": "markdown",
   "source": [
    "## linspace()生成等间距数组\n",
    "根据指定的起始值、终止值以及元素个数，生成一个等间距的ndarray。\n",
    "```python\n",
    "numpy.linspace(start, stop, num, endpoint, retstep, dtype)\n",
    "```\n",
    "\n",
    "- start：起始值，默认值为0。\n",
    "- stop：终止值，生成的数组中包含此值。\n",
    "- num：元素个数，默认值为50。\n",
    "- endpoint：布尔值，是否包含终止值，默认值为True。\n",
    "- retstep：布尔值，是否返回步长，默认值为False。\n",
    "- dtype：数据类型，默认为numpy.float64。\n"
   ],
   "id": "2276d686d1b4ed3a"
  },
  {
   "metadata": {},
   "cell_type": "code",
   "source": [
    "# 生成一个从0到1的等间距数组，元素个数为5\n",
    "arr = np.linspace(0, 1, 5)\n",
    "print(arr)"
   ],
   "id": "6ecef1cdbf740eef",
   "outputs": [],
   "execution_count": null
  },
  {
   "metadata": {},
   "cell_type": "code",
   "source": [
    "# 包含终止值\n",
    "arr = np.linspace(0, 1, 5, endpoint=True)\n",
    "print(arr)"
   ],
   "id": "2bf4224aa9be6aab",
   "outputs": [],
   "execution_count": null
  },
  {
   "metadata": {},
   "cell_type": "code",
   "source": [
    "# 不包含终止值\n",
    "arr = np.linspace(0, 1, 5, endpoint=False)\n",
    "print(arr)"
   ],
   "id": "9cbb66f558a702cd",
   "outputs": [],
   "execution_count": null
  },
  {
   "metadata": {},
   "cell_type": "code",
   "source": [
    "# 返回步长\n",
    "arr, step = np.linspace(0, 1, 5, retstep=True)\n",
    "print(arr)\n",
    "print(step)"
   ],
   "id": "782c056a5eda23ad",
   "outputs": [],
   "execution_count": null
  },
  {
   "metadata": {},
   "cell_type": "code",
   "source": [
    "x_data = np.linspace(0,100,500)\n",
    "x_data"
   ],
   "id": "a4dc9abaf45422f",
   "outputs": [],
   "execution_count": null
  },
  {
   "metadata": {},
   "cell_type": "markdown",
   "source": [
    "## 等比数列\n",
    "```python\n",
    "numpy.logspace(start, stop, num, endpoint, base, dtype)\n",
    "```\n",
    "\n",
    "- start：起始值，默认值为10。\n",
    "- stop：终止值，生成的数组中包含此值。\n",
    "- num：元素个数，默认值为50。\n",
    "- endpoint：布尔值，是否包含终止值，默认值为True。\n",
    "- base：数列的底，默认值为10。\n",
    "- dtype：数据类型，默认为numpy.float64。\n"
   ],
   "id": "a28ecfc6dc1cfa26"
  },
  {
   "metadata": {},
   "cell_type": "code",
   "source": [
    "# 生成一个从10^1到10^3的等比数列，元素个数为5\n",
    "arr = np.logspace(1, 3, 5)\n",
    "print(arr)"
   ],
   "id": "581dd0e4f2c3f826",
   "outputs": [],
   "execution_count": null
  },
  {
   "metadata": {},
   "cell_type": "code",
   "source": [
    "# 包含终止值\n",
    "arr = np.logspace(1, 3, 5, endpoint=True)\n",
    "print(arr)"
   ],
   "id": "1572bf4ae83f35d5",
   "outputs": [],
   "execution_count": null
  },
  {
   "metadata": {},
   "cell_type": "code",
   "source": [
    "# 不包含终止值\n",
    "arr = np.logspace(1, 3, 5, endpoint=False)\n",
    "print(arr)"
   ],
   "id": "a283612566d65655",
   "outputs": [],
   "execution_count": null
  },
  {
   "metadata": {},
   "cell_type": "code",
   "source": [
    "# 底数为2\n",
    "arr = np.logspace(1, 3, 5, base=2)\n",
    "print(arr)"
   ],
   "id": "ef0cb93f83beb3db",
   "outputs": [],
   "execution_count": null
  },
  {
   "metadata": {},
   "cell_type": "markdown",
   "source": [
    "## 全零或全一数组\n",
    "```python\n",
    "numpy.zeros(shape, dtype)\n",
    "numpy.ones(shape, dtype)\n",
    "```\n",
    "\n",
    "- shape：数组的形状，可以是整数、元组或列表。\n",
    "- dtype：数据类型，默认为numpy.float64。\n"
   ],
   "id": "bd33d56a93edc664"
  },
  {
   "metadata": {},
   "cell_type": "code",
   "source": [
    "# 生成一个5x3的全零数组\n",
    "arr = np.zeros((5, 3))\n",
    "print(arr)"
   ],
   "id": "8a503f8c85d96b98",
   "outputs": [],
   "execution_count": null
  },
  {
   "metadata": {},
   "cell_type": "code",
   "source": [
    "# 生成一个5x3的全一数组  \n",
    "arr = np.ones((5, 3))\n",
    "print(arr)"
   ],
   "id": "f3bc1493255651ae",
   "outputs": [],
   "execution_count": null
  },
  {
   "metadata": {},
   "cell_type": "markdown",
   "source": [
    "## 随机数数组\n",
    "```python\n",
    "numpy.random.rand(d0, d1, ..., dn)\n",
    "numpy.random.randn(d0, d1, ..., dn)\n",
    "numpy.random.randint(low, high=None, size, dtype)\n",
    "```\n",
    "\n",
    "- rand()：生成[0,1)之间的随机数。\n",
    "- randn()：生成标准正态分布的随机数。\n",
    "- randint()：生成[low,high)之间的随机整数。\n"
   ],
   "id": "71ec741c757f2cd6"
  },
  {
   "metadata": {},
   "cell_type": "code",
   "source": [
    "# 生成一个5x3的随机数数组\n",
    "arr = np.random.rand(5, 3)\n",
    "print(arr)"
   ],
   "id": "20123c49abc49312",
   "outputs": [],
   "execution_count": null
  },
  {
   "metadata": {},
   "cell_type": "code",
   "source": [
    "# 生成一个5x3的标准正态分布的随机数数组\n",
    "arr = np.random.randn(5, 3)\n",
    "print(arr)"
   ],
   "id": "982bc50a79643ec",
   "outputs": [],
   "execution_count": null
  },
  {
   "metadata": {},
   "cell_type": "code",
   "source": [
    "# 生成一个10个随机整数数组，范围为[0,10)\n",
    "arr = np.random.randint(10, size=10)\n",
    "print(arr)"
   ],
   "id": "8213d2b5e797a8f2",
   "outputs": [],
   "execution_count": null
  },
  {
   "metadata": {},
   "cell_type": "markdown",
   "source": [
    "## 数组的索引与切片\n",
    "```python\n",
    "arr[indices]\n",
    "arr[indices] = values\n",
    "```\n",
    "\n",
    "- indices：整数、整数数组、布尔数组、元组、None、省略号等，用于指定要访问的元素。"
   ],
   "id": "4834941ba2de831a"
  },
  {
   "metadata": {},
   "cell_type": "code",
   "source": [
    "arr = np.arange(10)\n",
    "print(arr)"
   ],
   "id": "57d23fb728b75144",
   "outputs": [],
   "execution_count": null
  },
  {
   "metadata": {},
   "cell_type": "code",
   "source": [
    "# 访问第3个元素\n",
    "print(arr[2])"
   ],
   "id": "5db39ed5e8991cd9",
   "outputs": [],
   "execution_count": null
  },
  {
   "metadata": {},
   "cell_type": "code",
   "source": [
    "# 访问第2、4、6个元素\n",
    "print(arr[1:4:2])"
   ],
   "id": "fc8088af14e781d2",
   "outputs": [],
   "execution_count": null
  },
  {
   "metadata": {},
   "cell_type": "code",
   "source": [
    "# 访问最后3个元素\n",
    "print(arr[-3:])"
   ],
   "id": "690c8211613bdf1e",
   "outputs": [],
   "execution_count": null
  },
  {
   "metadata": {},
   "cell_type": "markdown",
   "source": [
    "## numpy数组属性\n",
    "- ndim：数组的维度。\n",
    "- shape：数组的形状。\n",
    "- size：数组的元素个数。\n",
    "- dtype：数组元素的数据类型。\n",
    "- itemsize：数组元素的字节大小。\n",
    "- nbytes：数组占用的内存大小。\n"
   ],
   "id": "837ac8325b96e196"
  },
  {
   "metadata": {},
   "cell_type": "code",
   "source": [
    "arr = np.arange(10)\n",
    "print(arr)\n",
    "print(arr.ndim)\n",
    "print(arr.shape)\n",
    "print(arr.size)\n",
    "print(arr.dtype)\n",
    "print(arr.itemsize)\n",
    "print(arr.nbytes)"
   ],
   "id": "8cc978dfca2f5320",
   "outputs": [],
   "execution_count": null
  },
  {
   "metadata": {},
   "cell_type": "code",
   "source": [
    "# 调整维度\n",
    "arr = arr.reshape(2, 5)\n",
    "print(arr)\n",
    "print(arr.ndim)\n",
    "print(arr.shape)\n",
    "print(arr.size)\n",
    "print(arr.dtype)"
   ],
   "id": "f6f520bd8665b12f",
   "outputs": [],
   "execution_count": null
  },
  {
   "metadata": {},
   "cell_type": "code",
   "source": [
    "# resize()方法可以改变数组的形状,注意与numpy.resiz()的区别\n",
    "a = np.array([[1,2,3],[4,5,6]])\n",
    "print(a)\n",
    "b = a.copy()\n",
    "a.resize(3,3)\n",
    "print(a)\n",
    "b = np.resize(b,(3,3))\n",
    "print(b)\n",
    "a.resize(3,2)\n",
    "print(a)"
   ],
   "id": "28234e71d8991bbf",
   "outputs": [],
   "execution_count": null
  },
  {
   "metadata": {},
   "cell_type": "markdown",
   "source": "## 数组的运算",
   "id": "63a54ff5e94e33c7"
  },
  {
   "metadata": {},
   "cell_type": "markdown",
   "source": [
    "## 数组的拼接与分割\n",
    "```python"
   ],
   "id": "306e00911263612c"
  }
 ],
 "metadata": {
  "kernelspec": {
   "display_name": "Python 3",
   "language": "python",
   "name": "python3"
  },
  "language_info": {
   "codemirror_mode": {
    "name": "ipython",
    "version": 2
   },
   "file_extension": ".py",
   "mimetype": "text/x-python",
   "name": "python",
   "nbconvert_exporter": "python",
   "pygments_lexer": "ipython2",
   "version": "2.7.6"
  }
 },
 "nbformat": 4,
 "nbformat_minor": 5
}
